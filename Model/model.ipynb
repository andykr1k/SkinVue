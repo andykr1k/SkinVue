{
 "cells": [
  {
   "cell_type": "code",
   "execution_count": 86,
   "metadata": {},
   "outputs": [],
   "source": [
    "import numpy as np\n",
    "import pandas as pd\n",
    "import tensorflow as tf\n",
    "from tensorflow.keras import layers\n",
    "from tensorflow import keras\n",
    "import matplotlib.pyplot as plt\n",
    "from sklearn.model_selection import train_test_split\n",
    "from PIL import Image as img\n",
    "import cv2\n",
    "import requests\n",
    "import numpy as np\n",
    "from io import BytesIO\n",
    "import urllib"
   ]
  },
  {
   "cell_type": "code",
   "execution_count": 87,
   "metadata": {},
   "outputs": [],
   "source": [
    "data = pd.read_csv('./data/HAM10000_metadata.csv')"
   ]
  },
  {
   "cell_type": "code",
   "execution_count": 88,
   "metadata": {},
   "outputs": [],
   "source": [
    "data['path'] = './data/HAM10000/' + data['image_id'] + '.jpg'"
   ]
  },
  {
   "cell_type": "code",
   "execution_count": 89,
   "metadata": {},
   "outputs": [
    {
     "data": {
      "text/html": [
       "<div>\n",
       "<style scoped>\n",
       "    .dataframe tbody tr th:only-of-type {\n",
       "        vertical-align: middle;\n",
       "    }\n",
       "\n",
       "    .dataframe tbody tr th {\n",
       "        vertical-align: top;\n",
       "    }\n",
       "\n",
       "    .dataframe thead th {\n",
       "        text-align: right;\n",
       "    }\n",
       "</style>\n",
       "<table border=\"1\" class=\"dataframe\">\n",
       "  <thead>\n",
       "    <tr style=\"text-align: right;\">\n",
       "      <th></th>\n",
       "      <th>lesion_id</th>\n",
       "      <th>image_id</th>\n",
       "      <th>dx</th>\n",
       "      <th>dx_type</th>\n",
       "      <th>age</th>\n",
       "      <th>sex</th>\n",
       "      <th>localization</th>\n",
       "      <th>path</th>\n",
       "    </tr>\n",
       "  </thead>\n",
       "  <tbody>\n",
       "    <tr>\n",
       "      <th>0</th>\n",
       "      <td>HAM_0000118</td>\n",
       "      <td>ISIC_0027419</td>\n",
       "      <td>bkl</td>\n",
       "      <td>histo</td>\n",
       "      <td>80.0</td>\n",
       "      <td>male</td>\n",
       "      <td>scalp</td>\n",
       "      <td>./data/HAM10000/ISIC_0027419.jpg</td>\n",
       "    </tr>\n",
       "    <tr>\n",
       "      <th>1</th>\n",
       "      <td>HAM_0000118</td>\n",
       "      <td>ISIC_0025030</td>\n",
       "      <td>bkl</td>\n",
       "      <td>histo</td>\n",
       "      <td>80.0</td>\n",
       "      <td>male</td>\n",
       "      <td>scalp</td>\n",
       "      <td>./data/HAM10000/ISIC_0025030.jpg</td>\n",
       "    </tr>\n",
       "    <tr>\n",
       "      <th>2</th>\n",
       "      <td>HAM_0002730</td>\n",
       "      <td>ISIC_0026769</td>\n",
       "      <td>bkl</td>\n",
       "      <td>histo</td>\n",
       "      <td>80.0</td>\n",
       "      <td>male</td>\n",
       "      <td>scalp</td>\n",
       "      <td>./data/HAM10000/ISIC_0026769.jpg</td>\n",
       "    </tr>\n",
       "    <tr>\n",
       "      <th>3</th>\n",
       "      <td>HAM_0002730</td>\n",
       "      <td>ISIC_0025661</td>\n",
       "      <td>bkl</td>\n",
       "      <td>histo</td>\n",
       "      <td>80.0</td>\n",
       "      <td>male</td>\n",
       "      <td>scalp</td>\n",
       "      <td>./data/HAM10000/ISIC_0025661.jpg</td>\n",
       "    </tr>\n",
       "    <tr>\n",
       "      <th>4</th>\n",
       "      <td>HAM_0001466</td>\n",
       "      <td>ISIC_0031633</td>\n",
       "      <td>bkl</td>\n",
       "      <td>histo</td>\n",
       "      <td>75.0</td>\n",
       "      <td>male</td>\n",
       "      <td>ear</td>\n",
       "      <td>./data/HAM10000/ISIC_0031633.jpg</td>\n",
       "    </tr>\n",
       "  </tbody>\n",
       "</table>\n",
       "</div>"
      ],
      "text/plain": [
       "     lesion_id      image_id   dx dx_type   age   sex localization  \\\n",
       "0  HAM_0000118  ISIC_0027419  bkl   histo  80.0  male        scalp   \n",
       "1  HAM_0000118  ISIC_0025030  bkl   histo  80.0  male        scalp   \n",
       "2  HAM_0002730  ISIC_0026769  bkl   histo  80.0  male        scalp   \n",
       "3  HAM_0002730  ISIC_0025661  bkl   histo  80.0  male        scalp   \n",
       "4  HAM_0001466  ISIC_0031633  bkl   histo  75.0  male          ear   \n",
       "\n",
       "                               path  \n",
       "0  ./data/HAM10000/ISIC_0027419.jpg  \n",
       "1  ./data/HAM10000/ISIC_0025030.jpg  \n",
       "2  ./data/HAM10000/ISIC_0026769.jpg  \n",
       "3  ./data/HAM10000/ISIC_0025661.jpg  \n",
       "4  ./data/HAM10000/ISIC_0031633.jpg  "
      ]
     },
     "execution_count": 89,
     "metadata": {},
     "output_type": "execute_result"
    }
   ],
   "source": [
    "data.head()"
   ]
  },
  {
   "cell_type": "code",
   "execution_count": 90,
   "metadata": {},
   "outputs": [
    {
     "data": {
      "image/png": "[encoded data removed]",
      "text/plain": [
       "<Figure size 640x480 with 1 Axes>"
      ]
     },
     "metadata": {},
     "output_type": "display_data"
    }
   ],
   "source": [
    "plt.hist(data['dx'], bins=30, edgecolor='black')\n",
    "plt.title('Histogram of Random Data')\n",
    "plt.xlabel('Value')\n",
    "plt.ylabel('Frequency')\n",
    "plt.grid(True)\n",
    "plt.show()"
   ]
  },
  {
   "cell_type": "code",
   "execution_count": 91,
   "metadata": {},
   "outputs": [],
   "source": [
    "one_hot = pd.get_dummies(data['dx'])"
   ]
  },
  {
   "cell_type": "code",
   "execution_count": 92,
   "metadata": {},
   "outputs": [
    {
     "data": {
      "text/html": [
       "<div>\n",
       "<style scoped>\n",
       "    .dataframe tbody tr th:only-of-type {\n",
       "        vertical-align: middle;\n",
       "    }\n",
       "\n",
       "    .dataframe tbody tr th {\n",
       "        vertical-align: top;\n",
       "    }\n",
       "\n",
       "    .dataframe thead th {\n",
       "        text-align: right;\n",
       "    }\n",
       "</style>\n",
       "<table border=\"1\" class=\"dataframe\">\n",
       "  <thead>\n",
       "    <tr style=\"text-align: right;\">\n",
       "      <th></th>\n",
       "      <th>akiec</th>\n",
       "      <th>bcc</th>\n",
       "      <th>bkl</th>\n",
       "      <th>df</th>\n",
       "      <th>mel</th>\n",
       "      <th>nv</th>\n",
       "      <th>vasc</th>\n",
       "    </tr>\n",
       "  </thead>\n",
       "  <tbody>\n",
       "    <tr>\n",
       "      <th>0</th>\n",
       "      <td>0</td>\n",
       "      <td>0</td>\n",
       "      <td>1</td>\n",
       "      <td>0</td>\n",
       "      <td>0</td>\n",
       "      <td>0</td>\n",
       "      <td>0</td>\n",
       "    </tr>\n",
       "    <tr>\n",
       "      <th>1</th>\n",
       "      <td>0</td>\n",
       "      <td>0</td>\n",
       "      <td>1</td>\n",
       "      <td>0</td>\n",
       "      <td>0</td>\n",
       "      <td>0</td>\n",
       "      <td>0</td>\n",
       "    </tr>\n",
       "    <tr>\n",
       "      <th>2</th>\n",
       "      <td>0</td>\n",
       "      <td>0</td>\n",
       "      <td>1</td>\n",
       "      <td>0</td>\n",
       "      <td>0</td>\n",
       "      <td>0</td>\n",
       "      <td>0</td>\n",
       "    </tr>\n",
       "    <tr>\n",
       "      <th>3</th>\n",
       "      <td>0</td>\n",
       "      <td>0</td>\n",
       "      <td>1</td>\n",
       "      <td>0</td>\n",
       "      <td>0</td>\n",
       "      <td>0</td>\n",
       "      <td>0</td>\n",
       "    </tr>\n",
       "    <tr>\n",
       "      <th>4</th>\n",
       "      <td>0</td>\n",
       "      <td>0</td>\n",
       "      <td>1</td>\n",
       "      <td>0</td>\n",
       "      <td>0</td>\n",
       "      <td>0</td>\n",
       "      <td>0</td>\n",
       "    </tr>\n",
       "  </tbody>\n",
       "</table>\n",
       "</div>"
      ],
      "text/plain": [
       "   akiec  bcc  bkl  df  mel  nv  vasc\n",
       "0      0    0    1   0    0   0     0\n",
       "1      0    0    1   0    0   0     0\n",
       "2      0    0    1   0    0   0     0\n",
       "3      0    0    1   0    0   0     0\n",
       "4      0    0    1   0    0   0     0"
      ]
     },
     "execution_count": 92,
     "metadata": {},
     "output_type": "execute_result"
    }
   ],
   "source": [
    "one_hot.head()"
   ]
  },
  {
   "cell_type": "code",
   "execution_count": 93,
   "metadata": {},
   "outputs": [],
   "source": [
    "data = pd.concat([data, one_hot], axis=1)"
   ]
  },
  {
   "cell_type": "code",
   "execution_count": 94,
   "metadata": {},
   "outputs": [
    {
     "data": {
      "text/html": [
       "<div>\n",
       "<style scoped>\n",
       "    .dataframe tbody tr th:only-of-type {\n",
       "        vertical-align: middle;\n",
       "    }\n",
       "\n",
       "    .dataframe tbody tr th {\n",
       "        vertical-align: top;\n",
       "    }\n",
       "\n",
       "    .dataframe thead th {\n",
       "        text-align: right;\n",
       "    }\n",
       "</style>\n",
       "<table border=\"1\" class=\"dataframe\">\n",
       "  <thead>\n",
       "    <tr style=\"text-align: right;\">\n",
       "      <th></th>\n",
       "      <th>lesion_id</th>\n",
       "      <th>image_id</th>\n",
       "      <th>dx</th>\n",
       "      <th>dx_type</th>\n",
       "      <th>age</th>\n",
       "      <th>sex</th>\n",
       "      <th>localization</th>\n",
       "      <th>path</th>\n",
       "      <th>akiec</th>\n",
       "      <th>bcc</th>\n",
       "      <th>bkl</th>\n",
       "      <th>df</th>\n",
       "      <th>mel</th>\n",
       "      <th>nv</th>\n",
       "      <th>vasc</th>\n",
       "    </tr>\n",
       "  </thead>\n",
       "  <tbody>\n",
       "    <tr>\n",
       "      <th>0</th>\n",
       "      <td>HAM_0000118</td>\n",
       "      <td>ISIC_0027419</td>\n",
       "      <td>bkl</td>\n",
       "      <td>histo</td>\n",
       "      <td>80.0</td>\n",
       "      <td>male</td>\n",
       "      <td>scalp</td>\n",
       "      <td>./data/HAM10000/ISIC_0027419.jpg</td>\n",
       "      <td>0</td>\n",
       "      <td>0</td>\n",
       "      <td>1</td>\n",
       "      <td>0</td>\n",
       "      <td>0</td>\n",
       "      <td>0</td>\n",
       "      <td>0</td>\n",
       "    </tr>\n",
       "    <tr>\n",
       "      <th>1</th>\n",
       "      <td>HAM_0000118</td>\n",
       "      <td>ISIC_0025030</td>\n",
       "      <td>bkl</td>\n",
       "      <td>histo</td>\n",
       "      <td>80.0</td>\n",
       "      <td>male</td>\n",
       "      <td>scalp</td>\n",
       "      <td>./data/HAM10000/ISIC_0025030.jpg</td>\n",
       "      <td>0</td>\n",
       "      <td>0</td>\n",
       "      <td>1</td>\n",
       "      <td>0</td>\n",
       "      <td>0</td>\n",
       "      <td>0</td>\n",
       "      <td>0</td>\n",
       "    </tr>\n",
       "    <tr>\n",
       "      <th>2</th>\n",
       "      <td>HAM_0002730</td>\n",
       "      <td>ISIC_0026769</td>\n",
       "      <td>bkl</td>\n",
       "      <td>histo</td>\n",
       "      <td>80.0</td>\n",
       "      <td>male</td>\n",
       "      <td>scalp</td>\n",
       "      <td>./data/HAM10000/ISIC_0026769.jpg</td>\n",
       "      <td>0</td>\n",
       "      <td>0</td>\n",
       "      <td>1</td>\n",
       "      <td>0</td>\n",
       "      <td>0</td>\n",
       "      <td>0</td>\n",
       "      <td>0</td>\n",
       "    </tr>\n",
       "    <tr>\n",
       "      <th>3</th>\n",
       "      <td>HAM_0002730</td>\n",
       "      <td>ISIC_0025661</td>\n",
       "      <td>bkl</td>\n",
       "      <td>histo</td>\n",
       "      <td>80.0</td>\n",
       "      <td>male</td>\n",
       "      <td>scalp</td>\n",
       "      <td>./data/HAM10000/ISIC_0025661.jpg</td>\n",
       "      <td>0</td>\n",
       "      <td>0</td>\n",
       "      <td>1</td>\n",
       "      <td>0</td>\n",
       "      <td>0</td>\n",
       "      <td>0</td>\n",
       "      <td>0</td>\n",
       "    </tr>\n",
       "    <tr>\n",
       "      <th>4</th>\n",
       "      <td>HAM_0001466</td>\n",
       "      <td>ISIC_0031633</td>\n",
       "      <td>bkl</td>\n",
       "      <td>histo</td>\n",
       "      <td>75.0</td>\n",
       "      <td>male</td>\n",
       "      <td>ear</td>\n",
       "      <td>./data/HAM10000/ISIC_0031633.jpg</td>\n",
       "      <td>0</td>\n",
       "      <td>0</td>\n",
       "      <td>1</td>\n",
       "      <td>0</td>\n",
       "      <td>0</td>\n",
       "      <td>0</td>\n",
       "      <td>0</td>\n",
       "    </tr>\n",
       "    <tr>\n",
       "      <th>...</th>\n",
       "      <td>...</td>\n",
       "      <td>...</td>\n",
       "      <td>...</td>\n",
       "      <td>...</td>\n",
       "      <td>...</td>\n",
       "      <td>...</td>\n",
       "      <td>...</td>\n",
       "      <td>...</td>\n",
       "      <td>...</td>\n",
       "      <td>...</td>\n",
       "      <td>...</td>\n",
       "      <td>...</td>\n",
       "      <td>...</td>\n",
       "      <td>...</td>\n",
       "      <td>...</td>\n",
       "    </tr>\n",
       "    <tr>\n",
       "      <th>10010</th>\n",
       "      <td>HAM_0002867</td>\n",
       "      <td>ISIC_0033084</td>\n",
       "      <td>akiec</td>\n",
       "      <td>histo</td>\n",
       "      <td>40.0</td>\n",
       "      <td>male</td>\n",
       "      <td>abdomen</td>\n",
       "      <td>./data/HAM10000/ISIC_0033084.jpg</td>\n",
       "      <td>1</td>\n",
       "      <td>0</td>\n",
       "      <td>0</td>\n",
       "      <td>0</td>\n",
       "      <td>0</td>\n",
       "      <td>0</td>\n",
       "      <td>0</td>\n",
       "    </tr>\n",
       "    <tr>\n",
       "      <th>10011</th>\n",
       "      <td>HAM_0002867</td>\n",
       "      <td>ISIC_0033550</td>\n",
       "      <td>akiec</td>\n",
       "      <td>histo</td>\n",
       "      <td>40.0</td>\n",
       "      <td>male</td>\n",
       "      <td>abdomen</td>\n",
       "      <td>./data/HAM10000/ISIC_0033550.jpg</td>\n",
       "      <td>1</td>\n",
       "      <td>0</td>\n",
       "      <td>0</td>\n",
       "      <td>0</td>\n",
       "      <td>0</td>\n",
       "      <td>0</td>\n",
       "      <td>0</td>\n",
       "    </tr>\n",
       "    <tr>\n",
       "      <th>10012</th>\n",
       "      <td>HAM_0002867</td>\n",
       "      <td>ISIC_0033536</td>\n",
       "      <td>akiec</td>\n",
       "      <td>histo</td>\n",
       "      <td>40.0</td>\n",
       "      <td>male</td>\n",
       "      <td>abdomen</td>\n",
       "      <td>./data/HAM10000/ISIC_0033536.jpg</td>\n",
       "      <td>1</td>\n",
       "      <td>0</td>\n",
       "      <td>0</td>\n",
       "      <td>0</td>\n",
       "      <td>0</td>\n",
       "      <td>0</td>\n",
       "      <td>0</td>\n",
       "    </tr>\n",
       "    <tr>\n",
       "      <th>10013</th>\n",
       "      <td>HAM_0000239</td>\n",
       "      <td>ISIC_0032854</td>\n",
       "      <td>akiec</td>\n",
       "      <td>histo</td>\n",
       "      <td>80.0</td>\n",
       "      <td>male</td>\n",
       "      <td>face</td>\n",
       "      <td>./data/HAM10000/ISIC_0032854.jpg</td>\n",
       "      <td>1</td>\n",
       "      <td>0</td>\n",
       "      <td>0</td>\n",
       "      <td>0</td>\n",
       "      <td>0</td>\n",
       "      <td>0</td>\n",
       "      <td>0</td>\n",
       "    </tr>\n",
       "    <tr>\n",
       "      <th>10014</th>\n",
       "      <td>HAM_0003521</td>\n",
       "      <td>ISIC_0032258</td>\n",
       "      <td>mel</td>\n",
       "      <td>histo</td>\n",
       "      <td>70.0</td>\n",
       "      <td>female</td>\n",
       "      <td>back</td>\n",
       "      <td>./data/HAM10000/ISIC_0032258.jpg</td>\n",
       "      <td>0</td>\n",
       "      <td>0</td>\n",
       "      <td>0</td>\n",
       "      <td>0</td>\n",
       "      <td>1</td>\n",
       "      <td>0</td>\n",
       "      <td>0</td>\n",
       "    </tr>\n",
       "  </tbody>\n",
       "</table>\n",
       "<p>10015 rows × 15 columns</p>\n",
       "</div>"
      ],
      "text/plain": [
       "         lesion_id      image_id     dx dx_type   age     sex localization  \\\n",
       "0      HAM_0000118  ISIC_0027419    bkl   histo  80.0    male        scalp   \n",
       "1      HAM_0000118  ISIC_0025030    bkl   histo  80.0    male        scalp   \n",
       "2      HAM_0002730  ISIC_0026769    bkl   histo  80.0    male        scalp   \n",
       "3      HAM_0002730  ISIC_0025661    bkl   histo  80.0    male        scalp   \n",
       "4      HAM_0001466  ISIC_0031633    bkl   histo  75.0    male          ear   \n",
       "...            ...           ...    ...     ...   ...     ...          ...   \n",
       "10010  HAM_0002867  ISIC_0033084  akiec   histo  40.0    male      abdomen   \n",
       "10011  HAM_0002867  ISIC_0033550  akiec   histo  40.0    male      abdomen   \n",
       "10012  HAM_0002867  ISIC_0033536  akiec   histo  40.0    male      abdomen   \n",
       "10013  HAM_0000239  ISIC_0032854  akiec   histo  80.0    male         face   \n",
       "10014  HAM_0003521  ISIC_0032258    mel   histo  70.0  female         back   \n",
       "\n",
       "                                   path  akiec  bcc  bkl  df  mel  nv  vasc  \n",
       "0      ./data/HAM10000/ISIC_0027419.jpg      0    0    1   0    0   0     0  \n",
       "1      ./data/HAM10000/ISIC_0025030.jpg      0    0    1   0    0   0     0  \n",
       "2      ./data/HAM10000/ISIC_0026769.jpg      0    0    1   0    0   0     0  \n",
       "3      ./data/HAM10000/ISIC_0025661.jpg      0    0    1   0    0   0     0  \n",
       "4      ./data/HAM10000/ISIC_0031633.jpg      0    0    1   0    0   0     0  \n",
       "...                                 ...    ...  ...  ...  ..  ...  ..   ...  \n",
       "10010  ./data/HAM10000/ISIC_0033084.jpg      1    0    0   0    0   0     0  \n",
       "10011  ./data/HAM10000/ISIC_0033550.jpg      1    0    0   0    0   0     0  \n",
       "10012  ./data/HAM10000/ISIC_0033536.jpg      1    0    0   0    0   0     0  \n",
       "10013  ./data/HAM10000/ISIC_0032854.jpg      1    0    0   0    0   0     0  \n",
       "10014  ./data/HAM10000/ISIC_0032258.jpg      0    0    0   0    1   0     0  \n",
       "\n",
       "[10015 rows x 15 columns]"
      ]
     },
     "execution_count": 94,
     "metadata": {},
     "output_type": "execute_result"
    }
   ],
   "source": [
    "data"
   ]
  },
  {
   "cell_type": "code",
   "execution_count": 95,
   "metadata": {},
   "outputs": [
    {
     "name": "stdout",
     "output_type": "stream",
     "text": [
      "[[164 164 166 ... 169 170 170]\n",
      " [165 167 168 ... 169 171 170]\n",
      " [164 168 169 ... 169 171 169]\n",
      " ...\n",
      " [137 135 138 ... 157 155 153]\n",
      " [135 136 136 ... 158 155 154]\n",
      " [133 133 134 ... 158 157 153]]\n"
     ]
    }
   ],
   "source": [
    "image = np.array(cv2.imread(data['path'][0], cv2.IMREAD_GRAYSCALE))\n",
    "print(image)"
   ]
  },
  {
   "cell_type": "code",
   "execution_count": 96,
   "metadata": {},
   "outputs": [],
   "source": [
    "def load_image(image_path):\n",
    "    image = cv2.imread(image_path, cv2.IMREAD_GRAYSCALE)    \n",
    "    if image is not None:\n",
    "        image = cv2.resize(image, (28,28))\n",
    "        image = image.astype(np.float32) / 255.0\n",
    "    return image"
   ]
  },
  {
   "cell_type": "code",
   "execution_count": 97,
   "metadata": {},
   "outputs": [],
   "source": [
    "images = [load_image(image_path) for image_path in data['path']]\n",
    "images = np.array(images)"
   ]
  },
  {
   "cell_type": "code",
   "execution_count": 98,
   "metadata": {},
   "outputs": [
    {
     "data": {
      "image/png": "[encoded data removed]",
      "text/plain": [
       "<Figure size 640x480 with 1 Axes>"
      ]
     },
     "metadata": {},
     "output_type": "display_data"
    }
   ],
   "source": [
    "plt.imshow(images[0])\n",
    "plt.show()"
   ]
  },
  {
   "cell_type": "code",
   "execution_count": 99,
   "metadata": {},
   "outputs": [
    {
     "data": {
      "text/plain": [
       "(28, 28)"
      ]
     },
     "execution_count": 99,
     "metadata": {},
     "output_type": "execute_result"
    }
   ],
   "source": [
    "images[0].shape"
   ]
  },
  {
   "cell_type": "code",
   "execution_count": 100,
   "metadata": {},
   "outputs": [],
   "source": [
    "targets = data[['akiec','bcc','bkl','df','mel','nv','vasc']].values"
   ]
  },
  {
   "cell_type": "code",
   "execution_count": 101,
   "metadata": {},
   "outputs": [],
   "source": [
    "X_train, X_test, y_train, y_test = train_test_split(\n",
    "    images, targets, test_size=0.2, random_state=42)"
   ]
  },
  {
   "cell_type": "code",
   "execution_count": 102,
   "metadata": {},
   "outputs": [
    {
     "data": {
      "text/plain": [
       "8012"
      ]
     },
     "execution_count": 102,
     "metadata": {},
     "output_type": "execute_result"
    }
   ],
   "source": [
    "len(X_train)"
   ]
  },
  {
   "cell_type": "code",
   "execution_count": 103,
   "metadata": {},
   "outputs": [
    {
     "data": {
      "text/plain": [
       "2003"
      ]
     },
     "execution_count": 103,
     "metadata": {},
     "output_type": "execute_result"
    }
   ],
   "source": [
    "len(X_test)"
   ]
  },
  {
   "cell_type": "code",
   "execution_count": 104,
   "metadata": {},
   "outputs": [],
   "source": [
    "EarlyStop = keras.callbacks.EarlyStopping(min_delta=0.001, patience=10, verbose=0)\n",
    "\n",
    "model = keras.Sequential([\n",
    "    layers.Conv2D(16, (3, 3), activation='relu', input_shape=(28, 28, 1)),\n",
    "    layers.MaxPooling2D(),\n",
    "    layers.BatchNormalization(),\n",
    "    layers.Conv2D(32, (3, 3), activation='relu'),\n",
    "    layers.MaxPooling2D(),\n",
    "    layers.BatchNormalization(),\n",
    "    layers.Conv2D(32, (3, 3), activation='relu'),\n",
    "    layers.MaxPooling2D(),\n",
    "    layers.BatchNormalization(),\n",
    "    layers.Flatten(),\n",
    "    layers.Dense(40, activation='relu'),\n",
    "    layers.Dropout(0.6),\n",
    "    layers.Dense(7, activation='softmax')\n",
    "])\n",
    "\n",
    "model.compile(\n",
    "    optimizer='adam',\n",
    "    loss='categorical_crossentropy',\n",
    "    metrics=['accuracy']\n",
    ")"
   ]
  },
  {
   "cell_type": "code",
   "execution_count": 105,
   "metadata": {},
   "outputs": [
    {
     "name": "stdout",
     "output_type": "stream",
     "text": [
      "Model: \"sequential_1\"\n",
      "_________________________________________________________________\n",
      " Layer (type)                Output Shape              Param #   \n",
      "=================================================================\n",
      " conv2d_3 (Conv2D)           (None, 26, 26, 16)        160       \n",
      "                                                                 \n",
      " max_pooling2d_3 (MaxPoolin  (None, 13, 13, 16)        0         \n",
      " g2D)                                                            \n",
      "                                                                 \n",
      " batch_normalization_3 (Bat  (None, 13, 13, 16)        64        \n",
      " chNormalization)                                                \n",
      "                                                                 \n",
      " conv2d_4 (Conv2D)           (None, 11, 11, 32)        4640      \n",
      "                                                                 \n",
      " max_pooling2d_4 (MaxPoolin  (None, 5, 5, 32)          0         \n",
      " g2D)                                                            \n",
      "                                                                 \n",
      " batch_normalization_4 (Bat  (None, 5, 5, 32)          128       \n",
      " chNormalization)                                                \n",
      "                                                                 \n",
      " conv2d_5 (Conv2D)           (None, 3, 3, 32)          9248      \n",
      "                                                                 \n",
      " max_pooling2d_5 (MaxPoolin  (None, 1, 1, 32)          0         \n",
      " g2D)                                                            \n",
      "                                                                 \n",
      " batch_normalization_5 (Bat  (None, 1, 1, 32)          128       \n",
      " chNormalization)                                                \n",
      "                                                                 \n",
      " flatten_1 (Flatten)         (None, 32)                0         \n",
      "                                                                 \n",
      " dense_2 (Dense)             (None, 40)                1320      \n",
      "                                                                 \n",
      " dropout_1 (Dropout)         (None, 40)                0         \n",
      "                                                                 \n",
      " dense_3 (Dense)             (None, 7)                 287       \n",
      "                                                                 \n",
      "=================================================================\n",
      "Total params: 15975 (62.40 KB)\n",
      "Trainable params: 15815 (61.78 KB)\n",
      "Non-trainable params: 160 (640.00 Byte)\n",
      "_________________________________________________________________\n"
     ]
    }
   ],
   "source": [
    "model.summary()"
   ]
  },
  {
   "cell_type": "code",
   "execution_count": 106,
   "metadata": {},
   "outputs": [
    {
     "name": "stdout",
     "output_type": "stream",
     "text": [
      "Epoch 1/100\n"
     ]
    },
    {
     "name": "stdout",
     "output_type": "stream",
     "text": [
      "251/251 [==============================] - 3s 8ms/step - loss: 1.2949 - accuracy: 0.5664 - val_loss: 1.3974 - val_accuracy: 0.6316\n",
      "Epoch 2/100\n",
      "251/251 [==============================] - 2s 8ms/step - loss: 1.0347 - accuracy: 0.6697 - val_loss: 1.3068 - val_accuracy: 0.5257\n",
      "Epoch 3/100\n",
      "251/251 [==============================] - 2s 7ms/step - loss: 0.9699 - accuracy: 0.6801 - val_loss: 1.0390 - val_accuracy: 0.6790\n",
      "Epoch 4/100\n",
      "251/251 [==============================] - 2s 7ms/step - loss: 0.9510 - accuracy: 0.6833 - val_loss: 0.9336 - val_accuracy: 0.6865\n",
      "Epoch 5/100\n",
      "251/251 [==============================] - 2s 7ms/step - loss: 0.9302 - accuracy: 0.6843 - val_loss: 0.9327 - val_accuracy: 0.6770\n",
      "Epoch 6/100\n",
      "251/251 [==============================] - 2s 7ms/step - loss: 0.9109 - accuracy: 0.6886 - val_loss: 0.9312 - val_accuracy: 0.6855\n",
      "Epoch 7/100\n",
      "251/251 [==============================] - 2s 7ms/step - loss: 0.8941 - accuracy: 0.6895 - val_loss: 0.9347 - val_accuracy: 0.6830\n",
      "Epoch 8/100\n",
      "251/251 [==============================] - 2s 9ms/step - loss: 0.8833 - accuracy: 0.6950 - val_loss: 0.9182 - val_accuracy: 0.6880\n",
      "Epoch 9/100\n",
      "251/251 [==============================] - 2s 8ms/step - loss: 0.8724 - accuracy: 0.6992 - val_loss: 1.0373 - val_accuracy: 0.6675\n",
      "Epoch 10/100\n",
      "251/251 [==============================] - 2s 7ms/step - loss: 0.8609 - accuracy: 0.7033 - val_loss: 0.8757 - val_accuracy: 0.6975\n",
      "Epoch 11/100\n",
      "251/251 [==============================] - 2s 7ms/step - loss: 0.8445 - accuracy: 0.7017 - val_loss: 0.9558 - val_accuracy: 0.6490\n",
      "Epoch 12/100\n",
      "251/251 [==============================] - 2s 7ms/step - loss: 0.8419 - accuracy: 0.7046 - val_loss: 1.0022 - val_accuracy: 0.6865\n",
      "Epoch 13/100\n",
      "251/251 [==============================] - 2s 7ms/step - loss: 0.8308 - accuracy: 0.7062 - val_loss: 1.1189 - val_accuracy: 0.6500\n",
      "Epoch 14/100\n",
      "251/251 [==============================] - 2s 7ms/step - loss: 0.8283 - accuracy: 0.7059 - val_loss: 0.9453 - val_accuracy: 0.6835\n",
      "Epoch 15/100\n",
      "251/251 [==============================] - 2s 7ms/step - loss: 0.8100 - accuracy: 0.7093 - val_loss: 0.8872 - val_accuracy: 0.7024\n",
      "Epoch 16/100\n",
      "251/251 [==============================] - 2s 7ms/step - loss: 0.7990 - accuracy: 0.7128 - val_loss: 0.8944 - val_accuracy: 0.6965\n",
      "Epoch 17/100\n",
      "251/251 [==============================] - 2s 8ms/step - loss: 0.7777 - accuracy: 0.7193 - val_loss: 0.9137 - val_accuracy: 0.6800\n",
      "Epoch 18/100\n",
      "251/251 [==============================] - 2s 9ms/step - loss: 0.7678 - accuracy: 0.7262 - val_loss: 0.9790 - val_accuracy: 0.6345\n",
      "Epoch 19/100\n",
      "251/251 [==============================] - 2s 7ms/step - loss: 0.7547 - accuracy: 0.7320 - val_loss: 0.9382 - val_accuracy: 0.6855\n",
      "Epoch 20/100\n",
      "251/251 [==============================] - 2s 7ms/step - loss: 0.7352 - accuracy: 0.7383 - val_loss: 1.1325 - val_accuracy: 0.6780\n",
      "Epoch 21/100\n",
      "251/251 [==============================] - 2s 7ms/step - loss: 0.7357 - accuracy: 0.7360 - val_loss: 1.0803 - val_accuracy: 0.6805\n",
      "Epoch 22/100\n",
      "251/251 [==============================] - 2s 8ms/step - loss: 0.7148 - accuracy: 0.7418 - val_loss: 1.1324 - val_accuracy: 0.6800\n",
      "Epoch 23/100\n",
      "251/251 [==============================] - 2s 7ms/step - loss: 0.6912 - accuracy: 0.7446 - val_loss: 1.0735 - val_accuracy: 0.6206\n",
      "Epoch 24/100\n",
      "251/251 [==============================] - 2s 7ms/step - loss: 0.6849 - accuracy: 0.7510 - val_loss: 0.9534 - val_accuracy: 0.6910\n",
      "Epoch 25/100\n",
      "251/251 [==============================] - 2s 7ms/step - loss: 0.6630 - accuracy: 0.7559 - val_loss: 0.9889 - val_accuracy: 0.6860\n",
      "Epoch 26/100\n",
      "251/251 [==============================] - 2s 7ms/step - loss: 0.6584 - accuracy: 0.7659 - val_loss: 0.9705 - val_accuracy: 0.6890\n",
      "Epoch 27/100\n",
      "251/251 [==============================] - 2s 7ms/step - loss: 0.6336 - accuracy: 0.7693 - val_loss: 1.0058 - val_accuracy: 0.6690\n",
      "Epoch 28/100\n",
      "251/251 [==============================] - 2s 7ms/step - loss: 0.6153 - accuracy: 0.7761 - val_loss: 1.1078 - val_accuracy: 0.6635\n",
      "Epoch 29/100\n",
      "251/251 [==============================] - 2s 7ms/step - loss: 0.6262 - accuracy: 0.7758 - val_loss: 1.2613 - val_accuracy: 0.6725\n",
      "Epoch 30/100\n",
      "251/251 [==============================] - 2s 7ms/step - loss: 0.5983 - accuracy: 0.7851 - val_loss: 1.4239 - val_accuracy: 0.6610\n",
      "Epoch 31/100\n",
      "251/251 [==============================] - 2s 7ms/step - loss: 0.5921 - accuracy: 0.7891 - val_loss: 1.2478 - val_accuracy: 0.6840\n",
      "Epoch 32/100\n",
      "251/251 [==============================] - 2s 7ms/step - loss: 0.5574 - accuracy: 0.7964 - val_loss: 1.1499 - val_accuracy: 0.6355\n",
      "Epoch 33/100\n",
      "251/251 [==============================] - 2s 7ms/step - loss: 0.5458 - accuracy: 0.8059 - val_loss: 1.3719 - val_accuracy: 0.5911\n",
      "Epoch 34/100\n",
      "251/251 [==============================] - 2s 7ms/step - loss: 0.5485 - accuracy: 0.8014 - val_loss: 1.7104 - val_accuracy: 0.6750\n",
      "Epoch 35/100\n",
      "251/251 [==============================] - 2s 7ms/step - loss: 0.5170 - accuracy: 0.8087 - val_loss: 1.3377 - val_accuracy: 0.6815\n",
      "Epoch 36/100\n",
      "251/251 [==============================] - 2s 7ms/step - loss: 0.5226 - accuracy: 0.8082 - val_loss: 1.4221 - val_accuracy: 0.6785\n",
      "Epoch 37/100\n",
      "251/251 [==============================] - 2s 7ms/step - loss: 0.5061 - accuracy: 0.8184 - val_loss: 1.4024 - val_accuracy: 0.6331\n",
      "Epoch 38/100\n",
      "251/251 [==============================] - 2s 7ms/step - loss: 0.5100 - accuracy: 0.8173 - val_loss: 1.4468 - val_accuracy: 0.6291\n",
      "Epoch 39/100\n",
      "251/251 [==============================] - 2s 7ms/step - loss: 0.4846 - accuracy: 0.8245 - val_loss: 1.3917 - val_accuracy: 0.6685\n",
      "Epoch 40/100\n",
      "251/251 [==============================] - 2s 7ms/step - loss: 0.4770 - accuracy: 0.8256 - val_loss: 1.3913 - val_accuracy: 0.6625\n",
      "Epoch 41/100\n",
      "251/251 [==============================] - 2s 7ms/step - loss: 0.4643 - accuracy: 0.8328 - val_loss: 1.9516 - val_accuracy: 0.6705\n",
      "Epoch 42/100\n",
      "251/251 [==============================] - 2s 7ms/step - loss: 0.4666 - accuracy: 0.8362 - val_loss: 1.6122 - val_accuracy: 0.6580\n",
      "Epoch 43/100\n",
      "251/251 [==============================] - 2s 7ms/step - loss: 0.4499 - accuracy: 0.8372 - val_loss: 1.4363 - val_accuracy: 0.6360\n",
      "Epoch 44/100\n",
      "251/251 [==============================] - 2s 9ms/step - loss: 0.4348 - accuracy: 0.8410 - val_loss: 1.7073 - val_accuracy: 0.6610\n",
      "Epoch 45/100\n",
      "251/251 [==============================] - 2s 8ms/step - loss: 0.4285 - accuracy: 0.8501 - val_loss: 1.7092 - val_accuracy: 0.6670\n",
      "Epoch 46/100\n",
      "251/251 [==============================] - 2s 8ms/step - loss: 0.4371 - accuracy: 0.8482 - val_loss: 1.6775 - val_accuracy: 0.6076\n",
      "Epoch 47/100\n",
      "251/251 [==============================] - 2s 8ms/step - loss: 0.4342 - accuracy: 0.8450 - val_loss: 1.6942 - val_accuracy: 0.6665\n",
      "Epoch 48/100\n",
      "251/251 [==============================] - 2s 8ms/step - loss: 0.4106 - accuracy: 0.8495 - val_loss: 1.6190 - val_accuracy: 0.5876\n",
      "Epoch 49/100\n",
      "251/251 [==============================] - 3s 10ms/step - loss: 0.4075 - accuracy: 0.8545 - val_loss: 2.1865 - val_accuracy: 0.6570\n",
      "Epoch 50/100\n",
      "251/251 [==============================] - 3s 10ms/step - loss: 0.3948 - accuracy: 0.8597 - val_loss: 1.8929 - val_accuracy: 0.6650\n",
      "Epoch 51/100\n",
      "251/251 [==============================] - 2s 9ms/step - loss: 0.3925 - accuracy: 0.8623 - val_loss: 1.7709 - val_accuracy: 0.6056\n",
      "Epoch 52/100\n",
      "251/251 [==============================] - 2s 9ms/step - loss: 0.4079 - accuracy: 0.8553 - val_loss: 1.8050 - val_accuracy: 0.6435\n",
      "Epoch 53/100\n",
      "251/251 [==============================] - 2s 8ms/step - loss: 0.3968 - accuracy: 0.8545 - val_loss: 1.6968 - val_accuracy: 0.6340\n",
      "Epoch 54/100\n",
      "251/251 [==============================] - 2s 8ms/step - loss: 0.3857 - accuracy: 0.8583 - val_loss: 1.9498 - val_accuracy: 0.6350\n",
      "Epoch 55/100\n",
      "251/251 [==============================] - 2s 8ms/step - loss: 0.3742 - accuracy: 0.8671 - val_loss: 1.7046 - val_accuracy: 0.6146\n",
      "Epoch 56/100\n",
      "251/251 [==============================] - 2s 7ms/step - loss: 0.3675 - accuracy: 0.8714 - val_loss: 1.8628 - val_accuracy: 0.6450\n",
      "Epoch 57/100\n",
      "251/251 [==============================] - 2s 7ms/step - loss: 0.3833 - accuracy: 0.8657 - val_loss: 1.8552 - val_accuracy: 0.6400\n",
      "Epoch 58/100\n",
      "251/251 [==============================] - 2s 8ms/step - loss: 0.3614 - accuracy: 0.8747 - val_loss: 2.0037 - val_accuracy: 0.6326\n",
      "Epoch 59/100\n",
      "251/251 [==============================] - 2s 8ms/step - loss: 0.3619 - accuracy: 0.8742 - val_loss: 1.7888 - val_accuracy: 0.6161\n",
      "Epoch 60/100\n",
      "251/251 [==============================] - 2s 8ms/step - loss: 0.3438 - accuracy: 0.8762 - val_loss: 2.1642 - val_accuracy: 0.5956\n",
      "Epoch 61/100\n",
      "251/251 [==============================] - 2s 8ms/step - loss: 0.3288 - accuracy: 0.8816 - val_loss: 2.4441 - val_accuracy: 0.6625\n",
      "Epoch 62/100\n",
      "251/251 [==============================] - 2s 8ms/step - loss: 0.3446 - accuracy: 0.8774 - val_loss: 3.0912 - val_accuracy: 0.6450\n",
      "Epoch 63/100\n",
      "251/251 [==============================] - 2s 8ms/step - loss: 0.3407 - accuracy: 0.8807 - val_loss: 2.3919 - val_accuracy: 0.5881\n",
      "Epoch 64/100\n",
      "251/251 [==============================] - 2s 8ms/step - loss: 0.3305 - accuracy: 0.8793 - val_loss: 2.4214 - val_accuracy: 0.6795\n",
      "Epoch 65/100\n",
      "251/251 [==============================] - 2s 9ms/step - loss: 0.3407 - accuracy: 0.8803 - val_loss: 2.8421 - val_accuracy: 0.6720\n",
      "Epoch 66/100\n",
      "251/251 [==============================] - 2s 9ms/step - loss: 0.3544 - accuracy: 0.8772 - val_loss: 2.1407 - val_accuracy: 0.6530\n",
      "Epoch 67/100\n",
      "251/251 [==============================] - 2s 8ms/step - loss: 0.3372 - accuracy: 0.8842 - val_loss: 2.2314 - val_accuracy: 0.6251\n",
      "Epoch 68/100\n",
      "251/251 [==============================] - 2s 8ms/step - loss: 0.3220 - accuracy: 0.8843 - val_loss: 2.3460 - val_accuracy: 0.5961\n",
      "Epoch 69/100\n",
      "251/251 [==============================] - 2s 8ms/step - loss: 0.3068 - accuracy: 0.8923 - val_loss: 2.6938 - val_accuracy: 0.6510\n",
      "Epoch 70/100\n",
      "251/251 [==============================] - 2s 8ms/step - loss: 0.3231 - accuracy: 0.8858 - val_loss: 2.3195 - val_accuracy: 0.6600\n",
      "Epoch 71/100\n",
      "251/251 [==============================] - 2s 8ms/step - loss: 0.3108 - accuracy: 0.8902 - val_loss: 2.2008 - val_accuracy: 0.5721\n",
      "Epoch 72/100\n",
      "251/251 [==============================] - 2s 7ms/step - loss: 0.3082 - accuracy: 0.8929 - val_loss: 2.2725 - val_accuracy: 0.6236\n",
      "Epoch 73/100\n",
      "251/251 [==============================] - 2s 8ms/step - loss: 0.2962 - accuracy: 0.8953 - val_loss: 2.4962 - val_accuracy: 0.6520\n",
      "Epoch 74/100\n",
      "251/251 [==============================] - 2s 8ms/step - loss: 0.2969 - accuracy: 0.8939 - val_loss: 2.4897 - val_accuracy: 0.6261\n",
      "Epoch 75/100\n",
      "251/251 [==============================] - 2s 8ms/step - loss: 0.3139 - accuracy: 0.8913 - val_loss: 2.7157 - val_accuracy: 0.6515\n",
      "Epoch 76/100\n",
      "251/251 [==============================] - 2s 8ms/step - loss: 0.3090 - accuracy: 0.8910 - val_loss: 2.3951 - val_accuracy: 0.6390\n",
      "Epoch 77/100\n",
      "251/251 [==============================] - 2s 8ms/step - loss: 0.2961 - accuracy: 0.8949 - val_loss: 2.5281 - val_accuracy: 0.6430\n",
      "Epoch 78/100\n",
      "251/251 [==============================] - 2s 8ms/step - loss: 0.2857 - accuracy: 0.8990 - val_loss: 2.5869 - val_accuracy: 0.6291\n",
      "Epoch 79/100\n",
      "251/251 [==============================] - 3s 11ms/step - loss: 0.3006 - accuracy: 0.8958 - val_loss: 2.1765 - val_accuracy: 0.6036\n",
      "Epoch 80/100\n",
      "251/251 [==============================] - 2s 9ms/step - loss: 0.2872 - accuracy: 0.8969 - val_loss: 2.7723 - val_accuracy: 0.6490\n",
      "Epoch 81/100\n",
      "251/251 [==============================] - 2s 8ms/step - loss: 0.2902 - accuracy: 0.8982 - val_loss: 2.8373 - val_accuracy: 0.6505\n",
      "Epoch 82/100\n",
      "251/251 [==============================] - 2s 8ms/step - loss: 0.2884 - accuracy: 0.8983 - val_loss: 2.6629 - val_accuracy: 0.6480\n",
      "Epoch 83/100\n",
      "251/251 [==============================] - 2s 8ms/step - loss: 0.2908 - accuracy: 0.8964 - val_loss: 3.4110 - val_accuracy: 0.6600\n",
      "Epoch 84/100\n",
      "251/251 [==============================] - 2s 8ms/step - loss: 0.2937 - accuracy: 0.8987 - val_loss: 2.3287 - val_accuracy: 0.6221\n",
      "Epoch 85/100\n",
      "251/251 [==============================] - 2s 8ms/step - loss: 0.2501 - accuracy: 0.9144 - val_loss: 2.5331 - val_accuracy: 0.6231\n",
      "Epoch 86/100\n",
      "251/251 [==============================] - 2s 7ms/step - loss: 0.2812 - accuracy: 0.9031 - val_loss: 2.7622 - val_accuracy: 0.6335\n",
      "Epoch 87/100\n",
      "251/251 [==============================] - 3s 10ms/step - loss: 0.2905 - accuracy: 0.8964 - val_loss: 2.5479 - val_accuracy: 0.6156\n",
      "Epoch 88/100\n",
      "251/251 [==============================] - 2s 9ms/step - loss: 0.2793 - accuracy: 0.9049 - val_loss: 2.4817 - val_accuracy: 0.6266\n",
      "Epoch 89/100\n",
      "251/251 [==============================] - 2s 7ms/step - loss: 0.2727 - accuracy: 0.9058 - val_loss: 2.8199 - val_accuracy: 0.6380\n",
      "Epoch 90/100\n",
      "251/251 [==============================] - 2s 7ms/step - loss: 0.2753 - accuracy: 0.9053 - val_loss: 2.6765 - val_accuracy: 0.6465\n",
      "Epoch 91/100\n",
      "251/251 [==============================] - 2s 7ms/step - loss: 0.2411 - accuracy: 0.9160 - val_loss: 2.4668 - val_accuracy: 0.6495\n",
      "Epoch 92/100\n",
      "251/251 [==============================] - 2s 7ms/step - loss: 0.2845 - accuracy: 0.9006 - val_loss: 3.2899 - val_accuracy: 0.6530\n",
      "Epoch 93/100\n",
      "251/251 [==============================] - 2s 7ms/step - loss: 0.2587 - accuracy: 0.9101 - val_loss: 2.9157 - val_accuracy: 0.6390\n",
      "Epoch 94/100\n",
      "251/251 [==============================] - 2s 7ms/step - loss: 0.2552 - accuracy: 0.9125 - val_loss: 3.0480 - val_accuracy: 0.6365\n",
      "Epoch 95/100\n",
      "251/251 [==============================] - 2s 10ms/step - loss: 0.2415 - accuracy: 0.9211 - val_loss: 2.5976 - val_accuracy: 0.6236\n",
      "Epoch 96/100\n",
      "251/251 [==============================] - 2s 9ms/step - loss: 0.2589 - accuracy: 0.9080 - val_loss: 3.1654 - val_accuracy: 0.6106\n",
      "Epoch 97/100\n",
      "251/251 [==============================] - 2s 9ms/step - loss: 0.2742 - accuracy: 0.9050 - val_loss: 2.7966 - val_accuracy: 0.6161\n",
      "Epoch 98/100\n",
      "251/251 [==============================] - 2s 8ms/step - loss: 0.2363 - accuracy: 0.9186 - val_loss: 2.5801 - val_accuracy: 0.6086\n",
      "Epoch 99/100\n",
      "251/251 [==============================] - 2s 7ms/step - loss: 0.2282 - accuracy: 0.9201 - val_loss: 2.8608 - val_accuracy: 0.6016\n",
      "Epoch 100/100\n",
      "251/251 [==============================] - 2s 7ms/step - loss: 0.2466 - accuracy: 0.9145 - val_loss: 2.6594 - val_accuracy: 0.6066\n",
      "---------------------------------------------------------------------------------------\n"
     ]
    },
    {
     "data": {
      "text/plain": [
       "<AxesSubplot:>"
      ]
     },
     "execution_count": 106,
     "metadata": {},
     "output_type": "execute_result"
    },
    {
     "data": {
      "image/png": "[encoded data removed]",
      "text/plain": [
       "<Figure size 640x480 with 1 Axes>"
      ]
     },
     "metadata": {},
     "output_type": "display_data"
    },
    {
     "data": {
      "image/png": "[encoded data removed]",
      "text/plain": [
       "<Figure size 640x480 with 1 Axes>"
      ]
     },
     "metadata": {},
     "output_type": "display_data"
    }
   ],
   "source": [
    "train = model.fit(X_train, y_train,\n",
    "                  batch_size=32,\n",
    "                  epochs=100,\n",
    "                  validation_data=(X_test, y_test))\n",
    "\n",
    "history_df = pd.DataFrame(train.history)\n",
    "history_df.loc[:, ['loss', 'val_loss']].plot()\n",
    "\n",
    "print('---------------------------------------------------------------------------------------')\n",
    "\n",
    "history_df = pd.DataFrame(train.history)\n",
    "history_df.loc[:, ['accuracy', 'val_accuracy']].plot()"
   ]
  },
  {
   "cell_type": "code",
   "execution_count": 107,
   "metadata": {},
   "outputs": [
    {
     "data": {
      "image/png": "[encoded data removed]",
      "text/plain": [
       "<Figure size 640x480 with 1 Axes>"
      ]
     },
     "metadata": {},
     "output_type": "display_data"
    }
   ],
   "source": [
    "image = images[0]\n",
    "plt.imshow(image)\n",
    "plt.axis('off')\n",
    "plt.show()"
   ]
  },
  {
   "cell_type": "code",
   "execution_count": 108,
   "metadata": {},
   "outputs": [
    {
     "name": "stdout",
     "output_type": "stream",
     "text": [
      "1/1 [==============================] - 0s 82ms/step\n",
      "[[0. 0. 1. 0. 0. 0. 0.]]\n"
     ]
    }
   ],
   "source": [
    "test_image = image.reshape(1, 28, 28, 1)\n",
    "predictions = model.predict(test_image)\n",
    "arr = np.round(predictions)\n",
    "print(arr)"
   ]
  },
  {
   "cell_type": "code",
   "execution_count": 109,
   "metadata": {},
   "outputs": [],
   "source": [
    "diseases = ['Actinic Keratoses and Intraepithelial Carcinoma',\n",
    "    'Basal Cell Carcinoma', 'Benign', 'Dermatofibroma', 'Melanoma', 'Melanocytic Nevi', 'Vascular Lesions']"
   ]
  },
  {
   "cell_type": "code",
   "execution_count": 110,
   "metadata": {},
   "outputs": [],
   "source": [
    "def get_disease_from_array(arr, diseases):\n",
    "    for i, val in enumerate(arr[0]):\n",
    "        if val == 1:\n",
    "            return diseases[i]\n",
    "    return None"
   ]
  },
  {
   "cell_type": "code",
   "execution_count": 111,
   "metadata": {},
   "outputs": [
    {
     "name": "stdout",
     "output_type": "stream",
     "text": [
      "Benign\n"
     ]
    }
   ],
   "source": [
    "result = get_disease_from_array(arr, diseases)\n",
    "print(result)"
   ]
  },
  {
   "cell_type": "code",
   "execution_count": 114,
   "metadata": {},
   "outputs": [],
   "source": [
    "model.save(\"./weights/train_1.h5\")"
   ]
  }
 ],
 "metadata": {
  "kernelspec": {
   "display_name": "Python 3",
   "language": "python",
   "name": "python3"
  },
  "language_info": {
   "codemirror_mode": {
    "name": "ipython",
    "version": 3
   },
   "file_extension": ".py",
   "mimetype": "text/x-python",
   "name": "python",
   "nbconvert_exporter": "python",
   "pygments_lexer": "ipython3",
   "version": "3.10.4"
  }
 },
 "nbformat": 4,
 "nbformat_minor": 2
}
